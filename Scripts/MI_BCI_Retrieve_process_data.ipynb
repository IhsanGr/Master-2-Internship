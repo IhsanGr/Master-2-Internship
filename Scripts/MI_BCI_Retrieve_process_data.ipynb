{
 "cells": [
  {
   "cell_type": "markdown",
   "id": "c1f259ec",
   "metadata": {},
   "source": [
    "# Creating the processed dataset"
   ]
  },
  {
   "cell_type": "markdown",
   "id": "97f804c6",
   "metadata": {},
   "source": [
    "Be carefull with this script, one cell will delete every data provided by gdf_to_set matlab script.  \n",
    "Be sure that every data has been processed correctly before starting the file management."
   ]
  },
  {
   "cell_type": "code",
   "execution_count": 1,
   "id": "bb3ea5c2",
   "metadata": {},
   "outputs": [],
   "source": [
    "from glob import glob\n",
    "import mne, numpy as np, matplotlib.pyplot as plt, pandas as pd\n",
    "import re, os"
   ]
  },
  {
   "cell_type": "code",
   "execution_count": 53,
   "id": "5446f964",
   "metadata": {},
   "outputs": [
    {
     "name": "stdout",
     "output_type": "stream",
     "text": [
      "['A2', 'A5', 'A6', 'A9', 'A11', 'A13', 'A17', 'A21', 'A29', 'A31', 'A32', 'A36', 'A38', 'A39', 'A46', 'A47', 'A55', 'A60']\n"
     ]
    }
   ],
   "source": [
    "#Reminding of the rejected subjects (files would be empty)\n",
    "rejected = ['A2', 'A5', 'A6', 'A9', 'A11', 'A13', 'A17', 'A21', 'A29', 'A31', 'A32', 'A36', 'A38', 'A39', 'A40', 'A46', 'A47', 'A55', 'A59', 'A60']\n",
    "print(rejected)"
   ]
  },
  {
   "cell_type": "markdown",
   "id": "0be59d15",
   "metadata": {},
   "source": [
    "Creating every usefull folders for Processed dataset"
   ]
  },
  {
   "cell_type": "code",
   "execution_count": 165,
   "id": "4473d0ee",
   "metadata": {},
   "outputs": [],
   "source": [
    "#Your path to the data\n",
    "main_path = \"../BCI_Database/Signals/DATA A/*\"\n",
    "\n",
    "data_path = glob(main_path)\n",
    "\n",
    "#Creating the Processed Database by creating the folder for each subject\n",
    "if not os.path.exists('../BCI_Database_Processed'):\n",
    "        os.makedirs('../BCI_Database_Processed')\n",
    "\n",
    "if not os.path.exists('../BCI_Database_Processed/inputs_parameters'):\n",
    "        os.makedirs('../BCI_Database_Processed/inputs_parameters')\n",
    "\n",
    "for file in data_path:\n",
    "    \n",
    "    folder = re.findall(r'[A-C]\\d+$', file)[-1]\n",
    "\n",
    "    if not os.path.exists(f'../BCI_Database_Processed/{folder}'):\n",
    "        os.makedirs(f'../BCI_Database_Processed/{folder}')"
   ]
  },
  {
   "cell_type": "markdown",
   "id": "8de50a43",
   "metadata": {},
   "source": [
    "# Before this, execute the gdf_to_set matlab script"
   ]
  },
  {
   "cell_type": "markdown",
   "id": "a5638ace",
   "metadata": {},
   "source": [
    "Moving every baseline file in the correct location"
   ]
  },
  {
   "cell_type": "code",
   "execution_count": 63,
   "id": "3267c5cc",
   "metadata": {},
   "outputs": [
    {
     "name": "stdout",
     "output_type": "stream",
     "text": [
      "Source file inputParameters_baseline does not exists at the specified location\n"
     ]
    }
   ],
   "source": [
    "#Retrieving every processed file\n",
    "baseline_path = 'C:/Users/gricih01/OneDrive - Université du Québec en Outaouais/Documents/MI BCI Database and scripts/BCI_Database_Processed/.Antichambre/Baseline/3 - muscIL/*'\n",
    "baseline_path = glob(baseline_path)\n",
    "\n",
    "for baseline in baseline_path:\n",
    "    filename = os.path.basename(baseline)\n",
    "    filename = re.findall(r'.+baseline', filename)[0]\n",
    "    \n",
    "    subject = re.findall(r'^[A-C]\\d+', filename)[0]\n",
    "\n",
    "    if os.path.exists(baseline):\n",
    "        # Renamming and move the file\n",
    "        os.rename(baseline, f\"../BCI_Database_Processed/{subject}/{filename}.set\")\n",
    "        print(\"File successfully moved and renamed\")\n",
    "\n",
    "    else:\n",
    "        print(\"Source file does not exists at the specified location\")\n",
    "\n",
    "input_baseline_path = \"C:/Users/gricih01/OneDrive - Université du Québec en Outaouais/Documents/MI BCI Database and scripts/BCI_Database_Processed/.Antichambre/Baseline/input_parameters/*\"\n",
    "\n",
    "if len(glob(input_baseline_path))!=0:\n",
    "    input_baseline_path = glob(input_baseline_path)[0]\n",
    "    filename = os.path.basename(input_baseline_path)\n",
    "\n",
    "if os.path.exists(baseline):\n",
    "    # Renamming and move the file\n",
    "    os.rename(input_baseline_path, f\"../BCI_Database_Processed/inputs_parameters/{filename}\")\n",
    "    print(f\"File successfully moved and renamed\")\n",
    "\n",
    "else:\n",
    "    print(f\"Source file inputParameters_baseline does not exists at the specified location\")"
   ]
  },
  {
   "cell_type": "markdown",
   "id": "48a9045c",
   "metadata": {},
   "source": [
    "Moving every BCI task file in the correct location"
   ]
  },
  {
   "cell_type": "code",
   "execution_count": 113,
   "id": "2597f393",
   "metadata": {},
   "outputs": [
    {
     "name": "stdout",
     "output_type": "stream",
     "text": [
      "Source file inputParameters_BCI_task does not exists at the specified location\n"
     ]
    }
   ],
   "source": [
    "#Retrieving every processed file\n",
    "BCI_path = 'C:/Users/gricih01/OneDrive - Université du Québec en Outaouais/Documents/MI BCI Database and scripts/BCI_Database_Processed/.Antichambre/BCI/3 - ERP_filtered/*'\n",
    "BCI_path = glob(BCI_path)\n",
    "\n",
    "for BCI in BCI_path:\n",
    "    filename = os.path.basename(BCI)\n",
    "    if 'acquisition' in filename:\n",
    "        filename = re.findall(r'.+acquisition', filename)[0]\n",
    "    \n",
    "    else:\n",
    "        filename = re.findall(r'.+onlineT', filename)[0]\n",
    "\n",
    "    subject = re.findall(r'^[A-C]\\d+', filename)[0]\n",
    "\n",
    "    if os.path.exists(BCI):\n",
    "        # Renamming and move the file\n",
    "        os.rename(BCI, f\"../BCI_Database_Processed/{subject}/{filename}.set\")\n",
    "        print(\"File successfully moved and renamed\")\n",
    "\n",
    "    else:\n",
    "        print(\"Source file does not exists at the specified location\")\n",
    "\n",
    "input_BCI_path = \"C:/Users/gricih01/OneDrive - Université du Québec en Outaouais/Documents/MI BCI Database and scripts/BCI_Database_Processed/.Antichambre/BCI/input_parameters/*\"\n",
    "\n",
    "if len(glob(input_BCI_path))!=0:\n",
    "    input_BCI_path = glob(input_BCI_path)[0]\n",
    "    filename = os.path.basename(input_BCI_path)\n",
    "\n",
    "if os.path.exists(BCI):\n",
    "    # Renamming and move the file\n",
    "    #os.rename(input_BCI_path, f\"../BCI_Database_Processed/inputs_parameters/{filename}\")\n",
    "    print(f\"File successfully moved and renamed\")\n",
    "\n",
    "else:\n",
    "    print(f\"Source file inputParameters_BCI_task does not exists at the specified location\")"
   ]
  },
  {
   "cell_type": "code",
   "execution_count": 118,
   "id": "e55ecc92",
   "metadata": {},
   "outputs": [],
   "source": [
    "#Be carefull if you set it to \"True\" this will delete your files generated by gdf_to_set.mat\n",
    "interruptor = False"
   ]
  },
  {
   "cell_type": "code",
   "execution_count": 125,
   "id": "9f16dec9",
   "metadata": {},
   "outputs": [
    {
     "ename": "PermissionError",
     "evalue": "[WinError 32] Le processus ne peut pas accéder au fichier car ce fichier est utilisé par un autre processus: 'C:/Users/gricih01/OneDrive - Université du Québec en Outaouais/Documents/MI BCI Database and scripts/BCI_Database_Processed/.Antichambre\\\\BCI\\\\6 - quality_assessment_outputs'",
     "output_type": "error",
     "traceback": [
      "\u001b[1;31m---------------------------------------------------------------------------\u001b[0m",
      "\u001b[1;31mPermissionError\u001b[0m                           Traceback (most recent call last)",
      "Cell \u001b[1;32mIn[125], line 10\u001b[0m\n\u001b[0;32m      6\u001b[0m \u001b[38;5;28;01mif\u001b[39;00m interruptor:\n\u001b[0;32m      7\u001b[0m     \u001b[38;5;66;03m# Check if the folder exists before deleting it\u001b[39;00m\n\u001b[0;32m      8\u001b[0m     \u001b[38;5;28;01mif\u001b[39;00m os\u001b[38;5;241m.\u001b[39mpath\u001b[38;5;241m.\u001b[39mexists(folder_to_delete):\n\u001b[0;32m      9\u001b[0m         \u001b[38;5;66;03m# Delete the folder and all its contents recursively\u001b[39;00m\n\u001b[1;32m---> 10\u001b[0m         \u001b[43mshutil\u001b[49m\u001b[38;5;241;43m.\u001b[39;49m\u001b[43mrmtree\u001b[49m\u001b[43m(\u001b[49m\u001b[43mfolder_to_delete\u001b[49m\u001b[43m)\u001b[49m\n\u001b[0;32m     11\u001b[0m         \u001b[38;5;28mprint\u001b[39m(\u001b[38;5;124m\"\u001b[39m\u001b[38;5;124mThe folder and its contents have been successfully deleted.\u001b[39m\u001b[38;5;124m\"\u001b[39m)\n\u001b[0;32m     12\u001b[0m     \u001b[38;5;28;01melse\u001b[39;00m:\n",
      "File \u001b[1;32mC:\\Program Files\\WindowsApps\\PythonSoftwareFoundation.Python.3.11_3.11.2544.0_x64__qbz5n2kfra8p0\\Lib\\shutil.py:787\u001b[0m, in \u001b[0;36mrmtree\u001b[1;34m(path, ignore_errors, onerror, dir_fd)\u001b[0m\n\u001b[0;32m    785\u001b[0m     \u001b[38;5;66;03m# can't continue even if onerror hook returns\u001b[39;00m\n\u001b[0;32m    786\u001b[0m     \u001b[38;5;28;01mreturn\u001b[39;00m\n\u001b[1;32m--> 787\u001b[0m \u001b[38;5;28;01mreturn\u001b[39;00m \u001b[43m_rmtree_unsafe\u001b[49m\u001b[43m(\u001b[49m\u001b[43mpath\u001b[49m\u001b[43m,\u001b[49m\u001b[43m \u001b[49m\u001b[43monerror\u001b[49m\u001b[43m)\u001b[49m\n",
      "File \u001b[1;32mC:\\Program Files\\WindowsApps\\PythonSoftwareFoundation.Python.3.11_3.11.2544.0_x64__qbz5n2kfra8p0\\Lib\\shutil.py:629\u001b[0m, in \u001b[0;36m_rmtree_unsafe\u001b[1;34m(path, onerror)\u001b[0m\n\u001b[0;32m    627\u001b[0m         onerror(os\u001b[38;5;241m.\u001b[39mpath\u001b[38;5;241m.\u001b[39mislink, fullname, sys\u001b[38;5;241m.\u001b[39mexc_info())\n\u001b[0;32m    628\u001b[0m         \u001b[38;5;28;01mcontinue\u001b[39;00m\n\u001b[1;32m--> 629\u001b[0m     \u001b[43m_rmtree_unsafe\u001b[49m\u001b[43m(\u001b[49m\u001b[43mfullname\u001b[49m\u001b[43m,\u001b[49m\u001b[43m \u001b[49m\u001b[43monerror\u001b[49m\u001b[43m)\u001b[49m\n\u001b[0;32m    630\u001b[0m \u001b[38;5;28;01melse\u001b[39;00m:\n\u001b[0;32m    631\u001b[0m     \u001b[38;5;28;01mtry\u001b[39;00m:\n",
      "File \u001b[1;32mC:\\Program Files\\WindowsApps\\PythonSoftwareFoundation.Python.3.11_3.11.2544.0_x64__qbz5n2kfra8p0\\Lib\\shutil.py:629\u001b[0m, in \u001b[0;36m_rmtree_unsafe\u001b[1;34m(path, onerror)\u001b[0m\n\u001b[0;32m    627\u001b[0m         onerror(os\u001b[38;5;241m.\u001b[39mpath\u001b[38;5;241m.\u001b[39mislink, fullname, sys\u001b[38;5;241m.\u001b[39mexc_info())\n\u001b[0;32m    628\u001b[0m         \u001b[38;5;28;01mcontinue\u001b[39;00m\n\u001b[1;32m--> 629\u001b[0m     \u001b[43m_rmtree_unsafe\u001b[49m\u001b[43m(\u001b[49m\u001b[43mfullname\u001b[49m\u001b[43m,\u001b[49m\u001b[43m \u001b[49m\u001b[43monerror\u001b[49m\u001b[43m)\u001b[49m\n\u001b[0;32m    630\u001b[0m \u001b[38;5;28;01melse\u001b[39;00m:\n\u001b[0;32m    631\u001b[0m     \u001b[38;5;28;01mtry\u001b[39;00m:\n",
      "File \u001b[1;32mC:\\Program Files\\WindowsApps\\PythonSoftwareFoundation.Python.3.11_3.11.2544.0_x64__qbz5n2kfra8p0\\Lib\\shutil.py:638\u001b[0m, in \u001b[0;36m_rmtree_unsafe\u001b[1;34m(path, onerror)\u001b[0m\n\u001b[0;32m    636\u001b[0m     os\u001b[38;5;241m.\u001b[39mrmdir(path)\n\u001b[0;32m    637\u001b[0m \u001b[38;5;28;01mexcept\u001b[39;00m \u001b[38;5;167;01mOSError\u001b[39;00m:\n\u001b[1;32m--> 638\u001b[0m     \u001b[43monerror\u001b[49m\u001b[43m(\u001b[49m\u001b[43mos\u001b[49m\u001b[38;5;241;43m.\u001b[39;49m\u001b[43mrmdir\u001b[49m\u001b[43m,\u001b[49m\u001b[43m \u001b[49m\u001b[43mpath\u001b[49m\u001b[43m,\u001b[49m\u001b[43m \u001b[49m\u001b[43msys\u001b[49m\u001b[38;5;241;43m.\u001b[39;49m\u001b[43mexc_info\u001b[49m\u001b[43m(\u001b[49m\u001b[43m)\u001b[49m\u001b[43m)\u001b[49m\n",
      "File \u001b[1;32mC:\\Program Files\\WindowsApps\\PythonSoftwareFoundation.Python.3.11_3.11.2544.0_x64__qbz5n2kfra8p0\\Lib\\shutil.py:636\u001b[0m, in \u001b[0;36m_rmtree_unsafe\u001b[1;34m(path, onerror)\u001b[0m\n\u001b[0;32m    634\u001b[0m             onerror(os\u001b[38;5;241m.\u001b[39munlink, fullname, sys\u001b[38;5;241m.\u001b[39mexc_info())\n\u001b[0;32m    635\u001b[0m \u001b[38;5;28;01mtry\u001b[39;00m:\n\u001b[1;32m--> 636\u001b[0m     os\u001b[38;5;241m.\u001b[39mrmdir(path)\n\u001b[0;32m    637\u001b[0m \u001b[38;5;28;01mexcept\u001b[39;00m \u001b[38;5;167;01mOSError\u001b[39;00m:\n\u001b[0;32m    638\u001b[0m     onerror(os\u001b[38;5;241m.\u001b[39mrmdir, path, sys\u001b[38;5;241m.\u001b[39mexc_info())\n",
      "\u001b[1;31mPermissionError\u001b[0m: [WinError 32] Le processus ne peut pas accéder au fichier car ce fichier est utilisé par un autre processus: 'C:/Users/gricih01/OneDrive - Université du Québec en Outaouais/Documents/MI BCI Database and scripts/BCI_Database_Processed/.Antichambre\\\\BCI\\\\6 - quality_assessment_outputs'"
     ]
    }
   ],
   "source": [
    "import shutil\n",
    "\n",
    "# Path of the directory to clean up\n",
    "folder_to_delete = 'C:/Users/gricih01/OneDrive - Université du Québec en Outaouais/Documents/MI BCI Database and scripts/BCI_Database_Processed/.Antichambre'\n",
    "\n",
    "if interruptor:\n",
    "    # Check if the folder exists before deleting it\n",
    "    if os.path.exists(folder_to_delete):\n",
    "        # Delete the folder and all its contents recursively\n",
    "        shutil.rmtree(folder_to_delete)\n",
    "        print(\"The folder and its contents have been successfully deleted.\")\n",
    "    else:\n",
    "        print(\"The folder does not exist at the specified location.\")"
   ]
  }
 ],
 "metadata": {
  "kernelspec": {
   "display_name": "Python 3 (ipykernel)",
   "language": "python",
   "name": "python3"
  },
  "language_info": {
   "codemirror_mode": {
    "name": "ipython",
    "version": 3
   },
   "file_extension": ".py",
   "mimetype": "text/x-python",
   "name": "python",
   "nbconvert_exporter": "python",
   "pygments_lexer": "ipython3",
   "version": "3.11.9"
  }
 },
 "nbformat": 4,
 "nbformat_minor": 5
}
