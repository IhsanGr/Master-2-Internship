{
 "cells": [
  {
   "cell_type": "code",
   "execution_count": 1,
   "id": "457654c3-ad05-41ad-930b-8ba4038c0588",
   "metadata": {},
   "outputs": [
    {
     "name": "stdout",
     "output_type": "stream",
     "text": [
      "Le notebook contient 727 lignes de code.\n"
     ]
    }
   ],
   "source": [
    "import nbformat\n",
    "\n",
    "# Charge le notebook\n",
    "with open('MI_BCI_Feature_extraction.ipynb') as f:\n",
    "    nb = nbformat.read(f, as_version=4)\n",
    "\n",
    "# Compte le nombre de lignes dans chaque cellule\n",
    "total_lines1 = sum(len(cell['source'].split('\\n')) for cell in nb.cells if cell.cell_type == 'code')\n",
    "\n",
    "print(f\"Le notebook contient {total_lines1} lignes de code.\")\n"
   ]
  },
  {
   "cell_type": "code",
   "execution_count": 2,
   "id": "49238741-c6ff-47f1-b52f-a1f3b2db8e80",
   "metadata": {},
   "outputs": [
    {
     "name": "stdout",
     "output_type": "stream",
     "text": [
      "Le notebook contient 1746 lignes de code.\n"
     ]
    }
   ],
   "source": [
    "with open('MI_BCI_ML_Algorithms.ipynb') as f:\n",
    "    nb = nbformat.read(f, as_version=4)\n",
    "\n",
    "# Compte le nombre de lignes dans chaque cellule\n",
    "total_lines2 = sum(len(cell['source'].split('\\n')) for cell in nb.cells if cell.cell_type == 'code')\n",
    "\n",
    "print(f\"Le notebook contient {total_lines2} lignes de code.\")"
   ]
  },
  {
   "cell_type": "code",
   "execution_count": 3,
   "id": "760bcd79-fddd-46d7-a25b-f4db6a295b3f",
   "metadata": {},
   "outputs": [
    {
     "name": "stdout",
     "output_type": "stream",
     "text": [
      "Le notebook contient 711 lignes de code.\n"
     ]
    }
   ],
   "source": [
    "with open('MI_BCI_Enhancement_Feature_extraction.ipynb') as f:\n",
    "    nb = nbformat.read(f, as_version=4)\n",
    "\n",
    "# Compte le nombre de lignes dans chaque cellule\n",
    "total_lines3 = sum(len(cell['source'].split('\\n')) for cell in nb.cells if cell.cell_type == 'code')\n",
    "\n",
    "print(f\"Le notebook contient {total_lines3} lignes de code.\")"
   ]
  },
  {
   "cell_type": "code",
   "execution_count": 4,
   "id": "5a45ff0d-36e3-478b-a46f-d2550826a6f8",
   "metadata": {},
   "outputs": [
    {
     "name": "stdout",
     "output_type": "stream",
     "text": [
      "Le notebook contient 1652 lignes de code.\n"
     ]
    }
   ],
   "source": [
    "with open('MI_BCI_Enhancement_ML_Algorithms.ipynb') as f:\n",
    "    nb = nbformat.read(f, as_version=4)\n",
    "\n",
    "# Compte le nombre de lignes dans chaque cellule\n",
    "total_lines4 = sum(len(cell['source'].split('\\n')) for cell in nb.cells if cell.cell_type == 'code')\n",
    "\n",
    "print(f\"Le notebook contient {total_lines4} lignes de code.\")"
   ]
  },
  {
   "cell_type": "code",
   "execution_count": 5,
   "id": "7a11908a-4e19-4ccc-b742-db44fbe39da1",
   "metadata": {},
   "outputs": [
    {
     "name": "stdout",
     "output_type": "stream",
     "text": [
      "Le notebook contient 105 lignes de code.\n"
     ]
    }
   ],
   "source": [
    "with open('MI_BCI_Retrieve_process_data.ipynb') as f:\n",
    "    nb = nbformat.read(f, as_version=4)\n",
    "\n",
    "# Compte le nombre de lignes dans chaque cellule\n",
    "total_lines5 = sum(len(cell['source'].split('\\n')) for cell in nb.cells if cell.cell_type == 'code')\n",
    "\n",
    "print(f\"Le notebook contient {total_lines5} lignes de code.\")"
   ]
  },
  {
   "cell_type": "code",
   "execution_count": 9,
   "id": "b5baefed-e184-4520-b9ec-082575d3d483",
   "metadata": {},
   "outputs": [
    {
     "name": "stdout",
     "output_type": "stream",
     "text": [
      "Le nombre de lignes dans le fichier est : 155\n"
     ]
    }
   ],
   "source": [
    "# Ouvrir le fichier en mode lecture\n",
    "with open('gdf_to_set.m', 'r') as fichier:\n",
    "    # Lire toutes les lignes du fichier\n",
    "    lignes = fichier.readlines()\n",
    "    # Compter le nombre de lignes\n",
    "    nombre_de_lignes = len(lignes)\n",
    "\n",
    "print(f'Le nombre de lignes dans le fichier est : {nombre_de_lignes}')\n"
   ]
  },
  {
   "cell_type": "code",
   "execution_count": 10,
   "id": "74b6d52b-4b83-43e5-9e5d-915621131d40",
   "metadata": {},
   "outputs": [
    {
     "data": {
      "text/plain": [
       "5096"
      ]
     },
     "execution_count": 10,
     "metadata": {},
     "output_type": "execute_result"
    }
   ],
   "source": [
    "total_lines1 + total_lines2 + total_lines3 + total_lines4 + total_lines5 + nombre_de_lignes"
   ]
  },
  {
   "cell_type": "code",
   "execution_count": null,
   "id": "20e6b7f8-9d7e-4bf2-a6a3-5bae352c2a99",
   "metadata": {},
   "outputs": [],
   "source": []
  }
 ],
 "metadata": {
  "kernelspec": {
   "display_name": "Python 3 (ipykernel)",
   "language": "python",
   "name": "python3"
  },
  "language_info": {
   "codemirror_mode": {
    "name": "ipython",
    "version": 3
   },
   "file_extension": ".py",
   "mimetype": "text/x-python",
   "name": "python",
   "nbconvert_exporter": "python",
   "pygments_lexer": "ipython3",
   "version": "3.10.12"
  }
 },
 "nbformat": 4,
 "nbformat_minor": 5
}
